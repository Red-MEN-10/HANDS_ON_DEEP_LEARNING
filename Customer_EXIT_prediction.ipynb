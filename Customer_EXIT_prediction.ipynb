{
  "metadata": {
    "kernelspec": {
      "language": "python",
      "display_name": "Python 3",
      "name": "python3"
    },
    "language_info": {
      "name": "python",
      "version": "3.11.13",
      "mimetype": "text/x-python",
      "codemirror_mode": {
        "name": "ipython",
        "version": 3
      },
      "pygments_lexer": "ipython3",
      "nbconvert_exporter": "python",
      "file_extension": ".py"
    },
    "kaggle": {
      "accelerator": "none",
      "dataSources": [
        {
          "sourceId": 1481789,
          "sourceType": "datasetVersion",
          "datasetId": 869651
        }
      ],
      "dockerImageVersionId": 31089,
      "isInternetEnabled": false,
      "language": "python",
      "sourceType": "notebook",
      "isGpuEnabled": false
    },
    "colab": {
      "name": "Customer_EXIT_prediction",
      "provenance": [],
      "include_colab_link": true
    }
  },
  "nbformat_minor": 0,
  "nbformat": 4,
  "cells": [
    {
      "cell_type": "markdown",
      "metadata": {
        "id": "view-in-github",
        "colab_type": "text"
      },
      "source": [
        "<a href=\"https://colab.research.google.com/github/Red-MEN-10/HANDS_ON_DEEP_LEARNING/blob/main/Customer_EXIT_prediction.ipynb\" target=\"_parent\"><img src=\"https://colab.research.google.com/assets/colab-badge.svg\" alt=\"Open In Colab\"/></a>"
      ]
    },
    {
      "source": [
        "# IMPORTANT: RUN THIS CELL IN ORDER TO IMPORT YOUR KAGGLE DATA SOURCES,\n",
        "# THEN FEEL FREE TO DELETE THIS CELL.\n",
        "# NOTE: THIS NOTEBOOK ENVIRONMENT DIFFERS FROM KAGGLE'S PYTHON\n",
        "# ENVIRONMENT SO THERE MAY BE MISSING LIBRARIES USED BY YOUR\n",
        "# NOTEBOOK.\n",
        "import kagglehub\n",
        "rjmanoj_credit_card_customer_churn_prediction_path = kagglehub.dataset_download('rjmanoj/credit-card-customer-churn-prediction')\n",
        "\n",
        "print('Data source import complete.')\n"
      ],
      "metadata": {
        "id": "xUYcKzomFpno"
      },
      "cell_type": "code",
      "outputs": [],
      "execution_count": null
    },
    {
      "cell_type": "code",
      "source": [
        "# This Python 3 environment comes with many helpful analytics libraries installed\n",
        "# It is defined by the kaggle/python Docker image: https://github.com/kaggle/docker-python\n",
        "# For example, here's several helpful packages to load\n",
        "\n",
        "import numpy as np # linear algebra\n",
        "import pandas as pd # data processing, CSV file I/O (e.g. pd.read_csv)\n",
        "\n",
        "# Input data files are available in the read-only \"../input/\" directory\n",
        "# For example, running this (by clicking run or pressing Shift+Enter) will list all files under the input directory\n",
        "\n",
        "import os\n",
        "for dirname, _, filenames in os.walk('/kaggle/input'):\n",
        "    for filename in filenames:\n",
        "        print(os.path.join(dirname, filename))\n",
        "\n",
        "# You can write up to 20GB to the current directory (/kaggle/working/) that gets preserved as output when you create a version using \"Save & Run All\"\n",
        "# You can also write temporary files to /kaggle/temp/, but they won't be saved outside of the current session"
      ],
      "metadata": {
        "_uuid": "8f2839f25d086af736a60e9eeb907d3b93b6e0e5",
        "_cell_guid": "b1076dfc-b9ad-4769-8c92-a6c4dae69d19",
        "trusted": true,
        "execution": {
          "iopub.status.busy": "2025-07-18T10:18:05.785355Z",
          "iopub.execute_input": "2025-07-18T10:18:05.785695Z",
          "iopub.status.idle": "2025-07-18T10:18:05.794024Z",
          "shell.execute_reply.started": "2025-07-18T10:18:05.785671Z",
          "shell.execute_reply": "2025-07-18T10:18:05.792783Z"
        },
        "id": "iQlWNJq3Fpnt",
        "outputId": "79da0ca4-d744-494a-9519-d9eba348e368"
      },
      "outputs": [
        {
          "name": "stdout",
          "text": "/kaggle/input/credit-card-customer-churn-prediction/Churn_Modelling.csv\n",
          "output_type": "stream"
        }
      ],
      "execution_count": null
    },
    {
      "cell_type": "code",
      "source": [
        "df=pd.read_csv('/kaggle/input/credit-card-customer-churn-prediction/Churn_Modelling.csv')"
      ],
      "metadata": {
        "trusted": true,
        "execution": {
          "iopub.status.busy": "2025-07-18T10:18:05.802772Z",
          "iopub.execute_input": "2025-07-18T10:18:05.803118Z",
          "iopub.status.idle": "2025-07-18T10:18:05.845161Z",
          "shell.execute_reply.started": "2025-07-18T10:18:05.803096Z",
          "shell.execute_reply": "2025-07-18T10:18:05.844232Z"
        },
        "id": "XSkxiD6TFpnx"
      },
      "outputs": [],
      "execution_count": null
    },
    {
      "cell_type": "code",
      "source": [
        "df"
      ],
      "metadata": {
        "trusted": true,
        "execution": {
          "iopub.status.busy": "2025-07-18T10:18:05.846643Z",
          "iopub.execute_input": "2025-07-18T10:18:05.847419Z",
          "iopub.status.idle": "2025-07-18T10:18:05.864682Z",
          "shell.execute_reply.started": "2025-07-18T10:18:05.847394Z",
          "shell.execute_reply": "2025-07-18T10:18:05.863363Z"
        },
        "id": "Us3XFB5TFpn0",
        "outputId": "9d02f8a3-85c9-4168-d101-5f8dd030de35"
      },
      "outputs": [
        {
          "execution_count": 41,
          "output_type": "execute_result",
          "data": {
            "text/plain": "      RowNumber  CustomerId    Surname  CreditScore Geography  Gender  Age  \\\n0             1    15634602   Hargrave          619    France  Female   42   \n1             2    15647311       Hill          608     Spain  Female   41   \n2             3    15619304       Onio          502    France  Female   42   \n3             4    15701354       Boni          699    France  Female   39   \n4             5    15737888   Mitchell          850     Spain  Female   43   \n...         ...         ...        ...          ...       ...     ...  ...   \n9995       9996    15606229   Obijiaku          771    France    Male   39   \n9996       9997    15569892  Johnstone          516    France    Male   35   \n9997       9998    15584532        Liu          709    France  Female   36   \n9998       9999    15682355  Sabbatini          772   Germany    Male   42   \n9999      10000    15628319     Walker          792    France  Female   28   \n\n      Tenure    Balance  NumOfProducts  HasCrCard  IsActiveMember  \\\n0          2       0.00              1          1               1   \n1          1   83807.86              1          0               1   \n2          8  159660.80              3          1               0   \n3          1       0.00              2          0               0   \n4          2  125510.82              1          1               1   \n...      ...        ...            ...        ...             ...   \n9995       5       0.00              2          1               0   \n9996      10   57369.61              1          1               1   \n9997       7       0.00              1          0               1   \n9998       3   75075.31              2          1               0   \n9999       4  130142.79              1          1               0   \n\n      EstimatedSalary  Exited  \n0           101348.88       1  \n1           112542.58       0  \n2           113931.57       1  \n3            93826.63       0  \n4            79084.10       0  \n...               ...     ...  \n9995         96270.64       0  \n9996        101699.77       0  \n9997         42085.58       1  \n9998         92888.52       1  \n9999         38190.78       0  \n\n[10000 rows x 14 columns]",
            "text/html": "<div>\n<style scoped>\n    .dataframe tbody tr th:only-of-type {\n        vertical-align: middle;\n    }\n\n    .dataframe tbody tr th {\n        vertical-align: top;\n    }\n\n    .dataframe thead th {\n        text-align: right;\n    }\n</style>\n<table border=\"1\" class=\"dataframe\">\n  <thead>\n    <tr style=\"text-align: right;\">\n      <th></th>\n      <th>RowNumber</th>\n      <th>CustomerId</th>\n      <th>Surname</th>\n      <th>CreditScore</th>\n      <th>Geography</th>\n      <th>Gender</th>\n      <th>Age</th>\n      <th>Tenure</th>\n      <th>Balance</th>\n      <th>NumOfProducts</th>\n      <th>HasCrCard</th>\n      <th>IsActiveMember</th>\n      <th>EstimatedSalary</th>\n      <th>Exited</th>\n    </tr>\n  </thead>\n  <tbody>\n    <tr>\n      <th>0</th>\n      <td>1</td>\n      <td>15634602</td>\n      <td>Hargrave</td>\n      <td>619</td>\n      <td>France</td>\n      <td>Female</td>\n      <td>42</td>\n      <td>2</td>\n      <td>0.00</td>\n      <td>1</td>\n      <td>1</td>\n      <td>1</td>\n      <td>101348.88</td>\n      <td>1</td>\n    </tr>\n    <tr>\n      <th>1</th>\n      <td>2</td>\n      <td>15647311</td>\n      <td>Hill</td>\n      <td>608</td>\n      <td>Spain</td>\n      <td>Female</td>\n      <td>41</td>\n      <td>1</td>\n      <td>83807.86</td>\n      <td>1</td>\n      <td>0</td>\n      <td>1</td>\n      <td>112542.58</td>\n      <td>0</td>\n    </tr>\n    <tr>\n      <th>2</th>\n      <td>3</td>\n      <td>15619304</td>\n      <td>Onio</td>\n      <td>502</td>\n      <td>France</td>\n      <td>Female</td>\n      <td>42</td>\n      <td>8</td>\n      <td>159660.80</td>\n      <td>3</td>\n      <td>1</td>\n      <td>0</td>\n      <td>113931.57</td>\n      <td>1</td>\n    </tr>\n    <tr>\n      <th>3</th>\n      <td>4</td>\n      <td>15701354</td>\n      <td>Boni</td>\n      <td>699</td>\n      <td>France</td>\n      <td>Female</td>\n      <td>39</td>\n      <td>1</td>\n      <td>0.00</td>\n      <td>2</td>\n      <td>0</td>\n      <td>0</td>\n      <td>93826.63</td>\n      <td>0</td>\n    </tr>\n    <tr>\n      <th>4</th>\n      <td>5</td>\n      <td>15737888</td>\n      <td>Mitchell</td>\n      <td>850</td>\n      <td>Spain</td>\n      <td>Female</td>\n      <td>43</td>\n      <td>2</td>\n      <td>125510.82</td>\n      <td>1</td>\n      <td>1</td>\n      <td>1</td>\n      <td>79084.10</td>\n      <td>0</td>\n    </tr>\n    <tr>\n      <th>...</th>\n      <td>...</td>\n      <td>...</td>\n      <td>...</td>\n      <td>...</td>\n      <td>...</td>\n      <td>...</td>\n      <td>...</td>\n      <td>...</td>\n      <td>...</td>\n      <td>...</td>\n      <td>...</td>\n      <td>...</td>\n      <td>...</td>\n      <td>...</td>\n    </tr>\n    <tr>\n      <th>9995</th>\n      <td>9996</td>\n      <td>15606229</td>\n      <td>Obijiaku</td>\n      <td>771</td>\n      <td>France</td>\n      <td>Male</td>\n      <td>39</td>\n      <td>5</td>\n      <td>0.00</td>\n      <td>2</td>\n      <td>1</td>\n      <td>0</td>\n      <td>96270.64</td>\n      <td>0</td>\n    </tr>\n    <tr>\n      <th>9996</th>\n      <td>9997</td>\n      <td>15569892</td>\n      <td>Johnstone</td>\n      <td>516</td>\n      <td>France</td>\n      <td>Male</td>\n      <td>35</td>\n      <td>10</td>\n      <td>57369.61</td>\n      <td>1</td>\n      <td>1</td>\n      <td>1</td>\n      <td>101699.77</td>\n      <td>0</td>\n    </tr>\n    <tr>\n      <th>9997</th>\n      <td>9998</td>\n      <td>15584532</td>\n      <td>Liu</td>\n      <td>709</td>\n      <td>France</td>\n      <td>Female</td>\n      <td>36</td>\n      <td>7</td>\n      <td>0.00</td>\n      <td>1</td>\n      <td>0</td>\n      <td>1</td>\n      <td>42085.58</td>\n      <td>1</td>\n    </tr>\n    <tr>\n      <th>9998</th>\n      <td>9999</td>\n      <td>15682355</td>\n      <td>Sabbatini</td>\n      <td>772</td>\n      <td>Germany</td>\n      <td>Male</td>\n      <td>42</td>\n      <td>3</td>\n      <td>75075.31</td>\n      <td>2</td>\n      <td>1</td>\n      <td>0</td>\n      <td>92888.52</td>\n      <td>1</td>\n    </tr>\n    <tr>\n      <th>9999</th>\n      <td>10000</td>\n      <td>15628319</td>\n      <td>Walker</td>\n      <td>792</td>\n      <td>France</td>\n      <td>Female</td>\n      <td>28</td>\n      <td>4</td>\n      <td>130142.79</td>\n      <td>1</td>\n      <td>1</td>\n      <td>0</td>\n      <td>38190.78</td>\n      <td>0</td>\n    </tr>\n  </tbody>\n</table>\n<p>10000 rows × 14 columns</p>\n</div>"
          },
          "metadata": {}
        }
      ],
      "execution_count": null
    },
    {
      "cell_type": "code",
      "source": [
        "df.head()"
      ],
      "metadata": {
        "trusted": true,
        "execution": {
          "iopub.status.busy": "2025-07-18T10:18:05.866228Z",
          "iopub.execute_input": "2025-07-18T10:18:05.866557Z",
          "iopub.status.idle": "2025-07-18T10:18:05.897016Z",
          "shell.execute_reply.started": "2025-07-18T10:18:05.866517Z",
          "shell.execute_reply": "2025-07-18T10:18:05.895859Z"
        },
        "id": "sA-MM3-NFpn1",
        "outputId": "1e8d6ebc-4c3d-46a8-d292-4bcb6696945a"
      },
      "outputs": [
        {
          "execution_count": 42,
          "output_type": "execute_result",
          "data": {
            "text/plain": "   RowNumber  CustomerId   Surname  CreditScore Geography  Gender  Age  \\\n0          1    15634602  Hargrave          619    France  Female   42   \n1          2    15647311      Hill          608     Spain  Female   41   \n2          3    15619304      Onio          502    France  Female   42   \n3          4    15701354      Boni          699    France  Female   39   \n4          5    15737888  Mitchell          850     Spain  Female   43   \n\n   Tenure    Balance  NumOfProducts  HasCrCard  IsActiveMember  \\\n0       2       0.00              1          1               1   \n1       1   83807.86              1          0               1   \n2       8  159660.80              3          1               0   \n3       1       0.00              2          0               0   \n4       2  125510.82              1          1               1   \n\n   EstimatedSalary  Exited  \n0        101348.88       1  \n1        112542.58       0  \n2        113931.57       1  \n3         93826.63       0  \n4         79084.10       0  ",
            "text/html": "<div>\n<style scoped>\n    .dataframe tbody tr th:only-of-type {\n        vertical-align: middle;\n    }\n\n    .dataframe tbody tr th {\n        vertical-align: top;\n    }\n\n    .dataframe thead th {\n        text-align: right;\n    }\n</style>\n<table border=\"1\" class=\"dataframe\">\n  <thead>\n    <tr style=\"text-align: right;\">\n      <th></th>\n      <th>RowNumber</th>\n      <th>CustomerId</th>\n      <th>Surname</th>\n      <th>CreditScore</th>\n      <th>Geography</th>\n      <th>Gender</th>\n      <th>Age</th>\n      <th>Tenure</th>\n      <th>Balance</th>\n      <th>NumOfProducts</th>\n      <th>HasCrCard</th>\n      <th>IsActiveMember</th>\n      <th>EstimatedSalary</th>\n      <th>Exited</th>\n    </tr>\n  </thead>\n  <tbody>\n    <tr>\n      <th>0</th>\n      <td>1</td>\n      <td>15634602</td>\n      <td>Hargrave</td>\n      <td>619</td>\n      <td>France</td>\n      <td>Female</td>\n      <td>42</td>\n      <td>2</td>\n      <td>0.00</td>\n      <td>1</td>\n      <td>1</td>\n      <td>1</td>\n      <td>101348.88</td>\n      <td>1</td>\n    </tr>\n    <tr>\n      <th>1</th>\n      <td>2</td>\n      <td>15647311</td>\n      <td>Hill</td>\n      <td>608</td>\n      <td>Spain</td>\n      <td>Female</td>\n      <td>41</td>\n      <td>1</td>\n      <td>83807.86</td>\n      <td>1</td>\n      <td>0</td>\n      <td>1</td>\n      <td>112542.58</td>\n      <td>0</td>\n    </tr>\n    <tr>\n      <th>2</th>\n      <td>3</td>\n      <td>15619304</td>\n      <td>Onio</td>\n      <td>502</td>\n      <td>France</td>\n      <td>Female</td>\n      <td>42</td>\n      <td>8</td>\n      <td>159660.80</td>\n      <td>3</td>\n      <td>1</td>\n      <td>0</td>\n      <td>113931.57</td>\n      <td>1</td>\n    </tr>\n    <tr>\n      <th>3</th>\n      <td>4</td>\n      <td>15701354</td>\n      <td>Boni</td>\n      <td>699</td>\n      <td>France</td>\n      <td>Female</td>\n      <td>39</td>\n      <td>1</td>\n      <td>0.00</td>\n      <td>2</td>\n      <td>0</td>\n      <td>0</td>\n      <td>93826.63</td>\n      <td>0</td>\n    </tr>\n    <tr>\n      <th>4</th>\n      <td>5</td>\n      <td>15737888</td>\n      <td>Mitchell</td>\n      <td>850</td>\n      <td>Spain</td>\n      <td>Female</td>\n      <td>43</td>\n      <td>2</td>\n      <td>125510.82</td>\n      <td>1</td>\n      <td>1</td>\n      <td>1</td>\n      <td>79084.10</td>\n      <td>0</td>\n    </tr>\n  </tbody>\n</table>\n</div>"
          },
          "metadata": {}
        }
      ],
      "execution_count": null
    },
    {
      "cell_type": "code",
      "source": [
        "print(df.shape)"
      ],
      "metadata": {
        "trusted": true,
        "execution": {
          "iopub.status.busy": "2025-07-18T10:18:05.898514Z",
          "iopub.execute_input": "2025-07-18T10:18:05.899011Z",
          "iopub.status.idle": "2025-07-18T10:18:05.920148Z",
          "shell.execute_reply.started": "2025-07-18T10:18:05.898896Z",
          "shell.execute_reply": "2025-07-18T10:18:05.919205Z"
        },
        "id": "WZnekhy1Fpn1",
        "outputId": "156b70ce-a1f4-4533-e31b-d6f93101b252"
      },
      "outputs": [
        {
          "name": "stdout",
          "text": "(10000, 14)\n",
          "output_type": "stream"
        }
      ],
      "execution_count": null
    },
    {
      "cell_type": "code",
      "source": [
        "df.info()"
      ],
      "metadata": {
        "trusted": true,
        "execution": {
          "iopub.status.busy": "2025-07-18T10:18:05.921902Z",
          "iopub.execute_input": "2025-07-18T10:18:05.922254Z",
          "iopub.status.idle": "2025-07-18T10:18:05.951116Z",
          "shell.execute_reply.started": "2025-07-18T10:18:05.922232Z",
          "shell.execute_reply": "2025-07-18T10:18:05.950002Z"
        },
        "id": "q0wEzpU3Fpn2",
        "outputId": "dcfc29bc-38e4-4df5-8234-3d7482fe5cb3"
      },
      "outputs": [
        {
          "name": "stdout",
          "text": "<class 'pandas.core.frame.DataFrame'>\nRangeIndex: 10000 entries, 0 to 9999\nData columns (total 14 columns):\n #   Column           Non-Null Count  Dtype  \n---  ------           --------------  -----  \n 0   RowNumber        10000 non-null  int64  \n 1   CustomerId       10000 non-null  int64  \n 2   Surname          10000 non-null  object \n 3   CreditScore      10000 non-null  int64  \n 4   Geography        10000 non-null  object \n 5   Gender           10000 non-null  object \n 6   Age              10000 non-null  int64  \n 7   Tenure           10000 non-null  int64  \n 8   Balance          10000 non-null  float64\n 9   NumOfProducts    10000 non-null  int64  \n 10  HasCrCard        10000 non-null  int64  \n 11  IsActiveMember   10000 non-null  int64  \n 12  EstimatedSalary  10000 non-null  float64\n 13  Exited           10000 non-null  int64  \ndtypes: float64(2), int64(9), object(3)\nmemory usage: 1.1+ MB\n",
          "output_type": "stream"
        }
      ],
      "execution_count": null
    },
    {
      "cell_type": "code",
      "source": [
        "df.duplicated().sum()"
      ],
      "metadata": {
        "trusted": true,
        "execution": {
          "iopub.status.busy": "2025-07-18T10:18:05.952077Z",
          "iopub.execute_input": "2025-07-18T10:18:05.95236Z",
          "iopub.status.idle": "2025-07-18T10:18:05.979025Z",
          "shell.execute_reply.started": "2025-07-18T10:18:05.95233Z",
          "shell.execute_reply": "2025-07-18T10:18:05.978032Z"
        },
        "id": "2EChVtpRFpn4",
        "outputId": "3b2d4220-7276-41b7-e0df-ff7947e2d29b"
      },
      "outputs": [
        {
          "execution_count": 45,
          "output_type": "execute_result",
          "data": {
            "text/plain": "0"
          },
          "metadata": {}
        }
      ],
      "execution_count": null
    },
    {
      "cell_type": "code",
      "source": [
        "df['Exited'].value_counts()"
      ],
      "metadata": {
        "trusted": true,
        "execution": {
          "iopub.status.busy": "2025-07-18T10:18:05.980895Z",
          "iopub.execute_input": "2025-07-18T10:18:05.981273Z",
          "iopub.status.idle": "2025-07-18T10:18:06.001722Z",
          "shell.execute_reply.started": "2025-07-18T10:18:05.981232Z",
          "shell.execute_reply": "2025-07-18T10:18:06.000015Z"
        },
        "id": "NB0Zw_syFpn4",
        "outputId": "ccb73f68-4d05-480f-d4d4-9ae52765fc84"
      },
      "outputs": [
        {
          "execution_count": 46,
          "output_type": "execute_result",
          "data": {
            "text/plain": "Exited\n0    7963\n1    2037\nName: count, dtype: int64"
          },
          "metadata": {}
        }
      ],
      "execution_count": null
    },
    {
      "cell_type": "code",
      "source": [
        "df['Geography'].value_counts()"
      ],
      "metadata": {
        "trusted": true,
        "execution": {
          "iopub.status.busy": "2025-07-18T10:18:06.003023Z",
          "iopub.execute_input": "2025-07-18T10:18:06.003323Z",
          "iopub.status.idle": "2025-07-18T10:18:06.027889Z",
          "shell.execute_reply.started": "2025-07-18T10:18:06.003292Z",
          "shell.execute_reply": "2025-07-18T10:18:06.026866Z"
        },
        "id": "lygU-40zFpn6",
        "outputId": "b1d9c01d-a0ef-4a5a-9a22-dd3331681eca"
      },
      "outputs": [
        {
          "execution_count": 47,
          "output_type": "execute_result",
          "data": {
            "text/plain": "Geography\nFrance     5014\nGermany    2509\nSpain      2477\nName: count, dtype: int64"
          },
          "metadata": {}
        }
      ],
      "execution_count": null
    },
    {
      "cell_type": "code",
      "source": [
        "df['Gender'].value_counts()"
      ],
      "metadata": {
        "trusted": true,
        "execution": {
          "iopub.status.busy": "2025-07-18T10:18:06.029767Z",
          "iopub.execute_input": "2025-07-18T10:18:06.030182Z",
          "iopub.status.idle": "2025-07-18T10:18:06.052152Z",
          "shell.execute_reply.started": "2025-07-18T10:18:06.030161Z",
          "shell.execute_reply": "2025-07-18T10:18:06.051262Z"
        },
        "id": "LC-_glsgFpn6",
        "outputId": "3d63bd9e-e2f5-4938-e130-e644a5e41aeb"
      },
      "outputs": [
        {
          "execution_count": 48,
          "output_type": "execute_result",
          "data": {
            "text/plain": "Gender\nMale      5457\nFemale    4543\nName: count, dtype: int64"
          },
          "metadata": {}
        }
      ],
      "execution_count": null
    },
    {
      "cell_type": "code",
      "source": [
        "df=pd.get_dummies(df,columns=[\"Geography\",\"Gender\"],drop_first=True)"
      ],
      "metadata": {
        "trusted": true,
        "execution": {
          "iopub.status.busy": "2025-07-18T10:18:06.053126Z",
          "iopub.execute_input": "2025-07-18T10:18:06.053449Z",
          "iopub.status.idle": "2025-07-18T10:18:06.082627Z",
          "shell.execute_reply.started": "2025-07-18T10:18:06.053423Z",
          "shell.execute_reply": "2025-07-18T10:18:06.081734Z"
        },
        "id": "tugKdSfJFpn7"
      },
      "outputs": [],
      "execution_count": null
    },
    {
      "cell_type": "code",
      "source": [
        "df.drop(columns=['RowNumber','CustomerId','Surname'],inplace=True)"
      ],
      "metadata": {
        "trusted": true,
        "execution": {
          "iopub.status.busy": "2025-07-18T10:18:06.083659Z",
          "iopub.execute_input": "2025-07-18T10:18:06.083996Z",
          "iopub.status.idle": "2025-07-18T10:18:06.105515Z",
          "shell.execute_reply.started": "2025-07-18T10:18:06.083964Z",
          "shell.execute_reply": "2025-07-18T10:18:06.104415Z"
        },
        "id": "lNrVDZMEFpn8"
      },
      "outputs": [],
      "execution_count": null
    },
    {
      "cell_type": "code",
      "source": [
        "X=df.drop(columns=['Exited'])\n",
        "y=df['Exited'].values"
      ],
      "metadata": {
        "trusted": true,
        "execution": {
          "iopub.status.busy": "2025-07-18T10:18:06.106645Z",
          "iopub.execute_input": "2025-07-18T10:18:06.106941Z",
          "iopub.status.idle": "2025-07-18T10:18:06.127041Z",
          "shell.execute_reply.started": "2025-07-18T10:18:06.10692Z",
          "shell.execute_reply": "2025-07-18T10:18:06.126069Z"
        },
        "id": "IEmGoyeLFpn8"
      },
      "outputs": [],
      "execution_count": null
    },
    {
      "cell_type": "code",
      "source": [
        "X\n"
      ],
      "metadata": {
        "trusted": true,
        "execution": {
          "iopub.status.busy": "2025-07-18T10:18:06.129763Z",
          "iopub.execute_input": "2025-07-18T10:18:06.130128Z",
          "iopub.status.idle": "2025-07-18T10:18:06.159894Z",
          "shell.execute_reply.started": "2025-07-18T10:18:06.130095Z",
          "shell.execute_reply": "2025-07-18T10:18:06.159054Z"
        },
        "id": "_kbObZyxFpn8",
        "outputId": "a5489984-a7d4-47b5-b08c-f3ae2e6b8cbb"
      },
      "outputs": [
        {
          "execution_count": 52,
          "output_type": "execute_result",
          "data": {
            "text/plain": "      CreditScore  Age  Tenure    Balance  NumOfProducts  HasCrCard  \\\n0             619   42       2       0.00              1          1   \n1             608   41       1   83807.86              1          0   \n2             502   42       8  159660.80              3          1   \n3             699   39       1       0.00              2          0   \n4             850   43       2  125510.82              1          1   \n...           ...  ...     ...        ...            ...        ...   \n9995          771   39       5       0.00              2          1   \n9996          516   35      10   57369.61              1          1   \n9997          709   36       7       0.00              1          0   \n9998          772   42       3   75075.31              2          1   \n9999          792   28       4  130142.79              1          1   \n\n      IsActiveMember  EstimatedSalary  Geography_Germany  Geography_Spain  \\\n0                  1        101348.88              False            False   \n1                  1        112542.58              False             True   \n2                  0        113931.57              False            False   \n3                  0         93826.63              False            False   \n4                  1         79084.10              False             True   \n...              ...              ...                ...              ...   \n9995               0         96270.64              False            False   \n9996               1        101699.77              False            False   \n9997               1         42085.58              False            False   \n9998               0         92888.52               True            False   \n9999               0         38190.78              False            False   \n\n      Gender_Male  \n0           False  \n1           False  \n2           False  \n3           False  \n4           False  \n...           ...  \n9995         True  \n9996         True  \n9997        False  \n9998         True  \n9999        False  \n\n[10000 rows x 11 columns]",
            "text/html": "<div>\n<style scoped>\n    .dataframe tbody tr th:only-of-type {\n        vertical-align: middle;\n    }\n\n    .dataframe tbody tr th {\n        vertical-align: top;\n    }\n\n    .dataframe thead th {\n        text-align: right;\n    }\n</style>\n<table border=\"1\" class=\"dataframe\">\n  <thead>\n    <tr style=\"text-align: right;\">\n      <th></th>\n      <th>CreditScore</th>\n      <th>Age</th>\n      <th>Tenure</th>\n      <th>Balance</th>\n      <th>NumOfProducts</th>\n      <th>HasCrCard</th>\n      <th>IsActiveMember</th>\n      <th>EstimatedSalary</th>\n      <th>Geography_Germany</th>\n      <th>Geography_Spain</th>\n      <th>Gender_Male</th>\n    </tr>\n  </thead>\n  <tbody>\n    <tr>\n      <th>0</th>\n      <td>619</td>\n      <td>42</td>\n      <td>2</td>\n      <td>0.00</td>\n      <td>1</td>\n      <td>1</td>\n      <td>1</td>\n      <td>101348.88</td>\n      <td>False</td>\n      <td>False</td>\n      <td>False</td>\n    </tr>\n    <tr>\n      <th>1</th>\n      <td>608</td>\n      <td>41</td>\n      <td>1</td>\n      <td>83807.86</td>\n      <td>1</td>\n      <td>0</td>\n      <td>1</td>\n      <td>112542.58</td>\n      <td>False</td>\n      <td>True</td>\n      <td>False</td>\n    </tr>\n    <tr>\n      <th>2</th>\n      <td>502</td>\n      <td>42</td>\n      <td>8</td>\n      <td>159660.80</td>\n      <td>3</td>\n      <td>1</td>\n      <td>0</td>\n      <td>113931.57</td>\n      <td>False</td>\n      <td>False</td>\n      <td>False</td>\n    </tr>\n    <tr>\n      <th>3</th>\n      <td>699</td>\n      <td>39</td>\n      <td>1</td>\n      <td>0.00</td>\n      <td>2</td>\n      <td>0</td>\n      <td>0</td>\n      <td>93826.63</td>\n      <td>False</td>\n      <td>False</td>\n      <td>False</td>\n    </tr>\n    <tr>\n      <th>4</th>\n      <td>850</td>\n      <td>43</td>\n      <td>2</td>\n      <td>125510.82</td>\n      <td>1</td>\n      <td>1</td>\n      <td>1</td>\n      <td>79084.10</td>\n      <td>False</td>\n      <td>True</td>\n      <td>False</td>\n    </tr>\n    <tr>\n      <th>...</th>\n      <td>...</td>\n      <td>...</td>\n      <td>...</td>\n      <td>...</td>\n      <td>...</td>\n      <td>...</td>\n      <td>...</td>\n      <td>...</td>\n      <td>...</td>\n      <td>...</td>\n      <td>...</td>\n    </tr>\n    <tr>\n      <th>9995</th>\n      <td>771</td>\n      <td>39</td>\n      <td>5</td>\n      <td>0.00</td>\n      <td>2</td>\n      <td>1</td>\n      <td>0</td>\n      <td>96270.64</td>\n      <td>False</td>\n      <td>False</td>\n      <td>True</td>\n    </tr>\n    <tr>\n      <th>9996</th>\n      <td>516</td>\n      <td>35</td>\n      <td>10</td>\n      <td>57369.61</td>\n      <td>1</td>\n      <td>1</td>\n      <td>1</td>\n      <td>101699.77</td>\n      <td>False</td>\n      <td>False</td>\n      <td>True</td>\n    </tr>\n    <tr>\n      <th>9997</th>\n      <td>709</td>\n      <td>36</td>\n      <td>7</td>\n      <td>0.00</td>\n      <td>1</td>\n      <td>0</td>\n      <td>1</td>\n      <td>42085.58</td>\n      <td>False</td>\n      <td>False</td>\n      <td>False</td>\n    </tr>\n    <tr>\n      <th>9998</th>\n      <td>772</td>\n      <td>42</td>\n      <td>3</td>\n      <td>75075.31</td>\n      <td>2</td>\n      <td>1</td>\n      <td>0</td>\n      <td>92888.52</td>\n      <td>True</td>\n      <td>False</td>\n      <td>True</td>\n    </tr>\n    <tr>\n      <th>9999</th>\n      <td>792</td>\n      <td>28</td>\n      <td>4</td>\n      <td>130142.79</td>\n      <td>1</td>\n      <td>1</td>\n      <td>0</td>\n      <td>38190.78</td>\n      <td>False</td>\n      <td>False</td>\n      <td>False</td>\n    </tr>\n  </tbody>\n</table>\n<p>10000 rows × 11 columns</p>\n</div>"
          },
          "metadata": {}
        }
      ],
      "execution_count": null
    },
    {
      "cell_type": "code",
      "source": [
        "y"
      ],
      "metadata": {
        "trusted": true,
        "execution": {
          "iopub.status.busy": "2025-07-18T10:18:06.160935Z",
          "iopub.execute_input": "2025-07-18T10:18:06.161389Z",
          "iopub.status.idle": "2025-07-18T10:18:06.183409Z",
          "shell.execute_reply.started": "2025-07-18T10:18:06.161283Z",
          "shell.execute_reply": "2025-07-18T10:18:06.182292Z"
        },
        "id": "EjohwszFFpn9",
        "outputId": "f9dd6287-ae57-4755-b5d7-ae36f1df81b4"
      },
      "outputs": [
        {
          "execution_count": 53,
          "output_type": "execute_result",
          "data": {
            "text/plain": "array([1, 0, 1, ..., 1, 1, 0])"
          },
          "metadata": {}
        }
      ],
      "execution_count": null
    },
    {
      "cell_type": "code",
      "source": [
        "from sklearn.model_selection import train_test_split as tts\n",
        "\n",
        "X_train,X_test,y_train,y_test=tts(X,y,test_size=0.2,random_state=42)"
      ],
      "metadata": {
        "trusted": true,
        "execution": {
          "iopub.status.busy": "2025-07-18T10:18:06.184525Z",
          "iopub.execute_input": "2025-07-18T10:18:06.184902Z",
          "iopub.status.idle": "2025-07-18T10:18:06.207485Z",
          "shell.execute_reply.started": "2025-07-18T10:18:06.184871Z",
          "shell.execute_reply": "2025-07-18T10:18:06.206493Z"
        },
        "id": "vYdHJRAsFpn9"
      },
      "outputs": [],
      "execution_count": null
    },
    {
      "cell_type": "code",
      "source": [
        "print(X_train.shape)"
      ],
      "metadata": {
        "trusted": true,
        "execution": {
          "iopub.status.busy": "2025-07-18T10:18:06.208623Z",
          "iopub.execute_input": "2025-07-18T10:18:06.209076Z",
          "iopub.status.idle": "2025-07-18T10:18:06.229541Z",
          "shell.execute_reply.started": "2025-07-18T10:18:06.209043Z",
          "shell.execute_reply": "2025-07-18T10:18:06.228515Z"
        },
        "id": "2rD955wtFpn-",
        "outputId": "4c15c205-ab2e-4f0b-8d07-7cc059c4f8d7"
      },
      "outputs": [
        {
          "name": "stdout",
          "text": "(8000, 11)\n",
          "output_type": "stream"
        }
      ],
      "execution_count": null
    },
    {
      "cell_type": "code",
      "source": [
        "print(y_train.shape)"
      ],
      "metadata": {
        "trusted": true,
        "execution": {
          "iopub.status.busy": "2025-07-18T10:18:06.231704Z",
          "iopub.execute_input": "2025-07-18T10:18:06.232302Z",
          "iopub.status.idle": "2025-07-18T10:18:06.252728Z",
          "shell.execute_reply.started": "2025-07-18T10:18:06.23228Z",
          "shell.execute_reply": "2025-07-18T10:18:06.251743Z"
        },
        "id": "jYa6c9u5Fpn-",
        "outputId": "1a927e66-fce3-4949-faa4-94cc805e45f9"
      },
      "outputs": [
        {
          "name": "stdout",
          "text": "(8000,)\n",
          "output_type": "stream"
        }
      ],
      "execution_count": null
    },
    {
      "cell_type": "code",
      "source": [
        "from sklearn.preprocessing import StandardScaler\n",
        "scaler = StandardScaler()\n",
        "X_train_trans=scaler.fit_transform(X_train)\n",
        "X_test_trans=scaler.transform(X_test)\n"
      ],
      "metadata": {
        "trusted": true,
        "execution": {
          "iopub.status.busy": "2025-07-18T10:18:06.253783Z",
          "iopub.execute_input": "2025-07-18T10:18:06.254145Z",
          "iopub.status.idle": "2025-07-18T10:18:06.286251Z",
          "shell.execute_reply.started": "2025-07-18T10:18:06.254115Z",
          "shell.execute_reply": "2025-07-18T10:18:06.285271Z"
        },
        "id": "zMOdd60HFpn-"
      },
      "outputs": [],
      "execution_count": null
    },
    {
      "cell_type": "code",
      "source": [
        "import tensorflow\n",
        "from tensorflow import keras\n",
        "from tensorflow.keras import Sequential\n",
        "from tensorflow.keras.layers import Dense"
      ],
      "metadata": {
        "trusted": true,
        "execution": {
          "iopub.status.busy": "2025-07-18T10:18:06.2872Z",
          "iopub.execute_input": "2025-07-18T10:18:06.287511Z",
          "iopub.status.idle": "2025-07-18T10:18:06.294063Z",
          "shell.execute_reply.started": "2025-07-18T10:18:06.287483Z",
          "shell.execute_reply": "2025-07-18T10:18:06.29293Z"
        },
        "id": "yQafK49XFpn_"
      },
      "outputs": [],
      "execution_count": null
    },
    {
      "cell_type": "code",
      "source": [
        "model = Sequential()\n",
        "\n",
        "model.add(Dense(9,activation='relu',input_dim=11))\n",
        "model.add(Dense(7,activation='relu'))\n",
        "model.add(Dense(1,activation='sigmoid'))"
      ],
      "metadata": {
        "trusted": true,
        "execution": {
          "iopub.status.busy": "2025-07-18T10:18:06.295314Z",
          "iopub.execute_input": "2025-07-18T10:18:06.295603Z",
          "iopub.status.idle": "2025-07-18T10:18:06.355015Z",
          "shell.execute_reply.started": "2025-07-18T10:18:06.295573Z",
          "shell.execute_reply": "2025-07-18T10:18:06.354048Z"
        },
        "id": "3NMJr5SOFpn_",
        "outputId": "f06206d9-b386-4960-e992-d412d04502bb"
      },
      "outputs": [
        {
          "name": "stderr",
          "text": "/usr/local/lib/python3.11/dist-packages/keras/src/layers/core/dense.py:87: UserWarning: Do not pass an `input_shape`/`input_dim` argument to a layer. When using Sequential models, prefer using an `Input(shape)` object as the first layer in the model instead.\n  super().__init__(activity_regularizer=activity_regularizer, **kwargs)\n",
          "output_type": "stream"
        }
      ],
      "execution_count": null
    },
    {
      "cell_type": "code",
      "source": [
        "model.summary()"
      ],
      "metadata": {
        "trusted": true,
        "execution": {
          "iopub.status.busy": "2025-07-18T10:18:06.355996Z",
          "iopub.execute_input": "2025-07-18T10:18:06.356333Z",
          "iopub.status.idle": "2025-07-18T10:18:06.374308Z",
          "shell.execute_reply.started": "2025-07-18T10:18:06.3563Z",
          "shell.execute_reply": "2025-07-18T10:18:06.373072Z"
        },
        "id": "Rmdh5PUwFpn_",
        "outputId": "b507352b-749b-4033-fcb4-e9ecdbcb52fb"
      },
      "outputs": [
        {
          "output_type": "display_data",
          "data": {
            "text/plain": "\u001b[1mModel: \"sequential_1\"\u001b[0m\n",
            "text/html": "<pre style=\"white-space:pre;overflow-x:auto;line-height:normal;font-family:Menlo,'DejaVu Sans Mono',consolas,'Courier New',monospace\"><span style=\"font-weight: bold\">Model: \"sequential_1\"</span>\n</pre>\n"
          },
          "metadata": {}
        },
        {
          "output_type": "display_data",
          "data": {
            "text/plain": "┏━━━━━━━━━━━━━━━━━━━━━━━━━━━━━━━━━┳━━━━━━━━━━━━━━━━━━━━━━━━┳━━━━━━━━━━━━━━━┓\n┃\u001b[1m \u001b[0m\u001b[1mLayer (type)                   \u001b[0m\u001b[1m \u001b[0m┃\u001b[1m \u001b[0m\u001b[1mOutput Shape          \u001b[0m\u001b[1m \u001b[0m┃\u001b[1m \u001b[0m\u001b[1m      Param #\u001b[0m\u001b[1m \u001b[0m┃\n┡━━━━━━━━━━━━━━━━━━━━━━━━━━━━━━━━━╇━━━━━━━━━━━━━━━━━━━━━━━━╇━━━━━━━━━━━━━━━┩\n│ dense_3 (\u001b[38;5;33mDense\u001b[0m)                 │ (\u001b[38;5;45mNone\u001b[0m, \u001b[38;5;34m9\u001b[0m)              │           \u001b[38;5;34m108\u001b[0m │\n├─────────────────────────────────┼────────────────────────┼───────────────┤\n│ dense_4 (\u001b[38;5;33mDense\u001b[0m)                 │ (\u001b[38;5;45mNone\u001b[0m, \u001b[38;5;34m7\u001b[0m)              │            \u001b[38;5;34m70\u001b[0m │\n├─────────────────────────────────┼────────────────────────┼───────────────┤\n│ dense_5 (\u001b[38;5;33mDense\u001b[0m)                 │ (\u001b[38;5;45mNone\u001b[0m, \u001b[38;5;34m1\u001b[0m)              │             \u001b[38;5;34m8\u001b[0m │\n└─────────────────────────────────┴────────────────────────┴───────────────┘\n",
            "text/html": "<pre style=\"white-space:pre;overflow-x:auto;line-height:normal;font-family:Menlo,'DejaVu Sans Mono',consolas,'Courier New',monospace\">┏━━━━━━━━━━━━━━━━━━━━━━━━━━━━━━━━━┳━━━━━━━━━━━━━━━━━━━━━━━━┳━━━━━━━━━━━━━━━┓\n┃<span style=\"font-weight: bold\"> Layer (type)                    </span>┃<span style=\"font-weight: bold\"> Output Shape           </span>┃<span style=\"font-weight: bold\">       Param # </span>┃\n┡━━━━━━━━━━━━━━━━━━━━━━━━━━━━━━━━━╇━━━━━━━━━━━━━━━━━━━━━━━━╇━━━━━━━━━━━━━━━┩\n│ dense_3 (<span style=\"color: #0087ff; text-decoration-color: #0087ff\">Dense</span>)                 │ (<span style=\"color: #00d7ff; text-decoration-color: #00d7ff\">None</span>, <span style=\"color: #00af00; text-decoration-color: #00af00\">9</span>)              │           <span style=\"color: #00af00; text-decoration-color: #00af00\">108</span> │\n├─────────────────────────────────┼────────────────────────┼───────────────┤\n│ dense_4 (<span style=\"color: #0087ff; text-decoration-color: #0087ff\">Dense</span>)                 │ (<span style=\"color: #00d7ff; text-decoration-color: #00d7ff\">None</span>, <span style=\"color: #00af00; text-decoration-color: #00af00\">7</span>)              │            <span style=\"color: #00af00; text-decoration-color: #00af00\">70</span> │\n├─────────────────────────────────┼────────────────────────┼───────────────┤\n│ dense_5 (<span style=\"color: #0087ff; text-decoration-color: #0087ff\">Dense</span>)                 │ (<span style=\"color: #00d7ff; text-decoration-color: #00d7ff\">None</span>, <span style=\"color: #00af00; text-decoration-color: #00af00\">1</span>)              │             <span style=\"color: #00af00; text-decoration-color: #00af00\">8</span> │\n└─────────────────────────────────┴────────────────────────┴───────────────┘\n</pre>\n"
          },
          "metadata": {}
        },
        {
          "output_type": "display_data",
          "data": {
            "text/plain": "\u001b[1m Total params: \u001b[0m\u001b[38;5;34m186\u001b[0m (744.00 B)\n",
            "text/html": "<pre style=\"white-space:pre;overflow-x:auto;line-height:normal;font-family:Menlo,'DejaVu Sans Mono',consolas,'Courier New',monospace\"><span style=\"font-weight: bold\"> Total params: </span><span style=\"color: #00af00; text-decoration-color: #00af00\">186</span> (744.00 B)\n</pre>\n"
          },
          "metadata": {}
        },
        {
          "output_type": "display_data",
          "data": {
            "text/plain": "\u001b[1m Trainable params: \u001b[0m\u001b[38;5;34m186\u001b[0m (744.00 B)\n",
            "text/html": "<pre style=\"white-space:pre;overflow-x:auto;line-height:normal;font-family:Menlo,'DejaVu Sans Mono',consolas,'Courier New',monospace\"><span style=\"font-weight: bold\"> Trainable params: </span><span style=\"color: #00af00; text-decoration-color: #00af00\">186</span> (744.00 B)\n</pre>\n"
          },
          "metadata": {}
        },
        {
          "output_type": "display_data",
          "data": {
            "text/plain": "\u001b[1m Non-trainable params: \u001b[0m\u001b[38;5;34m0\u001b[0m (0.00 B)\n",
            "text/html": "<pre style=\"white-space:pre;overflow-x:auto;line-height:normal;font-family:Menlo,'DejaVu Sans Mono',consolas,'Courier New',monospace\"><span style=\"font-weight: bold\"> Non-trainable params: </span><span style=\"color: #00af00; text-decoration-color: #00af00\">0</span> (0.00 B)\n</pre>\n"
          },
          "metadata": {}
        }
      ],
      "execution_count": null
    },
    {
      "cell_type": "code",
      "source": [
        "model.compile(optimizer='Adam',loss='binary_crossentropy',metrics=['accuracy'])"
      ],
      "metadata": {
        "trusted": true,
        "execution": {
          "iopub.status.busy": "2025-07-18T10:18:06.375559Z",
          "iopub.execute_input": "2025-07-18T10:18:06.375954Z",
          "iopub.status.idle": "2025-07-18T10:18:06.392073Z",
          "shell.execute_reply.started": "2025-07-18T10:18:06.375928Z",
          "shell.execute_reply": "2025-07-18T10:18:06.39093Z"
        },
        "id": "iJQcbp5iFpn_"
      },
      "outputs": [],
      "execution_count": null
    },
    {
      "cell_type": "code",
      "source": [
        "history=model.fit(X_train,y_train,batch_size=50,epochs=100,verbose=1,validation_split=0.2)"
      ],
      "metadata": {
        "trusted": true,
        "execution": {
          "iopub.status.busy": "2025-07-18T10:18:06.393364Z",
          "iopub.execute_input": "2025-07-18T10:18:06.393803Z",
          "iopub.status.idle": "2025-07-18T10:18:49.218122Z",
          "shell.execute_reply.started": "2025-07-18T10:18:06.393771Z",
          "shell.execute_reply": "2025-07-18T10:18:49.217046Z"
        },
        "id": "xE98PCFnFpoA",
        "outputId": "355e6670-0cc9-40c1-acd5-b2250bca1741"
      },
      "outputs": [
        {
          "name": "stdout",
          "text": "Epoch 1/100\n\u001b[1m128/128\u001b[0m \u001b[32m━━━━━━━━━━━━━━━━━━━━\u001b[0m\u001b[37m\u001b[0m \u001b[1m2s\u001b[0m 5ms/step - accuracy: 0.2942 - loss: 11270.8525 - val_accuracy: 0.7400 - val_loss: 154.9265\nEpoch 2/100\n\u001b[1m128/128\u001b[0m \u001b[32m━━━━━━━━━━━━━━━━━━━━\u001b[0m\u001b[37m\u001b[0m \u001b[1m0s\u001b[0m 3ms/step - accuracy: 0.7429 - loss: 130.7930 - val_accuracy: 0.7444 - val_loss: 81.1609\nEpoch 3/100\n\u001b[1m128/128\u001b[0m \u001b[32m━━━━━━━━━━━━━━━━━━━━\u001b[0m\u001b[37m\u001b[0m \u001b[1m0s\u001b[0m 3ms/step - accuracy: 0.7456 - loss: 77.2533 - val_accuracy: 0.7706 - val_loss: 40.0239\nEpoch 4/100\n\u001b[1m128/128\u001b[0m \u001b[32m━━━━━━━━━━━━━━━━━━━━\u001b[0m\u001b[37m\u001b[0m \u001b[1m0s\u001b[0m 3ms/step - accuracy: 0.7567 - loss: 34.4587 - val_accuracy: 0.7700 - val_loss: 16.4070\nEpoch 5/100\n\u001b[1m128/128\u001b[0m \u001b[32m━━━━━━━━━━━━━━━━━━━━\u001b[0m\u001b[37m\u001b[0m \u001b[1m0s\u001b[0m 3ms/step - accuracy: 0.7594 - loss: 16.0060 - val_accuracy: 0.7925 - val_loss: 11.1976\nEpoch 6/100\n\u001b[1m128/128\u001b[0m \u001b[32m━━━━━━━━━━━━━━━━━━━━\u001b[0m\u001b[37m\u001b[0m \u001b[1m0s\u001b[0m 3ms/step - accuracy: 0.7661 - loss: 10.3167 - val_accuracy: 0.7481 - val_loss: 5.7473\nEpoch 7/100\n\u001b[1m128/128\u001b[0m \u001b[32m━━━━━━━━━━━━━━━━━━━━\u001b[0m\u001b[37m\u001b[0m \u001b[1m0s\u001b[0m 3ms/step - accuracy: 0.7746 - loss: 6.1946 - val_accuracy: 0.7800 - val_loss: 3.1455\nEpoch 8/100\n\u001b[1m128/128\u001b[0m \u001b[32m━━━━━━━━━━━━━━━━━━━━\u001b[0m\u001b[37m\u001b[0m \u001b[1m0s\u001b[0m 3ms/step - accuracy: 0.7649 - loss: 4.3032 - val_accuracy: 0.7925 - val_loss: 2.8673\nEpoch 9/100\n\u001b[1m128/128\u001b[0m \u001b[32m━━━━━━━━━━━━━━━━━━━━\u001b[0m\u001b[37m\u001b[0m \u001b[1m0s\u001b[0m 3ms/step - accuracy: 0.7774 - loss: 3.6877 - val_accuracy: 0.7944 - val_loss: 5.3505\nEpoch 10/100\n\u001b[1m128/128\u001b[0m \u001b[32m━━━━━━━━━━━━━━━━━━━━\u001b[0m\u001b[37m\u001b[0m \u001b[1m0s\u001b[0m 3ms/step - accuracy: 0.7785 - loss: 3.5134 - val_accuracy: 0.7794 - val_loss: 1.6283\nEpoch 11/100\n\u001b[1m128/128\u001b[0m \u001b[32m━━━━━━━━━━━━━━━━━━━━\u001b[0m\u001b[37m\u001b[0m \u001b[1m0s\u001b[0m 3ms/step - accuracy: 0.7640 - loss: 2.6622 - val_accuracy: 0.7531 - val_loss: 1.7003\nEpoch 12/100\n\u001b[1m128/128\u001b[0m \u001b[32m━━━━━━━━━━━━━━━━━━━━\u001b[0m\u001b[37m\u001b[0m \u001b[1m0s\u001b[0m 3ms/step - accuracy: 0.7735 - loss: 1.8083 - val_accuracy: 0.7900 - val_loss: 1.1446\nEpoch 13/100\n\u001b[1m128/128\u001b[0m \u001b[32m━━━━━━━━━━━━━━━━━━━━\u001b[0m\u001b[37m\u001b[0m \u001b[1m0s\u001b[0m 3ms/step - accuracy: 0.7791 - loss: 1.8129 - val_accuracy: 0.7950 - val_loss: 1.9476\nEpoch 14/100\n\u001b[1m128/128\u001b[0m \u001b[32m━━━━━━━━━━━━━━━━━━━━\u001b[0m\u001b[37m\u001b[0m \u001b[1m0s\u001b[0m 3ms/step - accuracy: 0.7831 - loss: 1.3944 - val_accuracy: 0.7919 - val_loss: 0.8958\nEpoch 15/100\n\u001b[1m128/128\u001b[0m \u001b[32m━━━━━━━━━━━━━━━━━━━━\u001b[0m\u001b[37m\u001b[0m \u001b[1m0s\u001b[0m 3ms/step - accuracy: 0.7730 - loss: 1.6133 - val_accuracy: 0.7956 - val_loss: 1.1635\nEpoch 16/100\n\u001b[1m128/128\u001b[0m \u001b[32m━━━━━━━━━━━━━━━━━━━━\u001b[0m\u001b[37m\u001b[0m \u001b[1m0s\u001b[0m 3ms/step - accuracy: 0.7785 - loss: 1.2059 - val_accuracy: 0.7950 - val_loss: 1.2290\nEpoch 17/100\n\u001b[1m128/128\u001b[0m \u001b[32m━━━━━━━━━━━━━━━━━━━━\u001b[0m\u001b[37m\u001b[0m \u001b[1m0s\u001b[0m 3ms/step - accuracy: 0.7897 - loss: 1.1461 - val_accuracy: 0.7962 - val_loss: 3.5922\nEpoch 18/100\n\u001b[1m128/128\u001b[0m \u001b[32m━━━━━━━━━━━━━━━━━━━━\u001b[0m\u001b[37m\u001b[0m \u001b[1m0s\u001b[0m 3ms/step - accuracy: 0.7820 - loss: 1.6333 - val_accuracy: 0.7962 - val_loss: 1.4867\nEpoch 19/100\n\u001b[1m128/128\u001b[0m \u001b[32m━━━━━━━━━━━━━━━━━━━━\u001b[0m\u001b[37m\u001b[0m \u001b[1m0s\u001b[0m 3ms/step - accuracy: 0.7747 - loss: 1.5931 - val_accuracy: 0.7969 - val_loss: 1.5321\nEpoch 20/100\n\u001b[1m128/128\u001b[0m \u001b[32m━━━━━━━━━━━━━━━━━━━━\u001b[0m\u001b[37m\u001b[0m \u001b[1m0s\u001b[0m 3ms/step - accuracy: 0.7803 - loss: 1.3618 - val_accuracy: 0.7594 - val_loss: 1.6997\nEpoch 21/100\n\u001b[1m128/128\u001b[0m \u001b[32m━━━━━━━━━━━━━━━━━━━━\u001b[0m\u001b[37m\u001b[0m \u001b[1m0s\u001b[0m 3ms/step - accuracy: 0.7858 - loss: 1.0595 - val_accuracy: 0.7638 - val_loss: 1.6819\nEpoch 22/100\n\u001b[1m128/128\u001b[0m \u001b[32m━━━━━━━━━━━━━━━━━━━━\u001b[0m\u001b[37m\u001b[0m \u001b[1m0s\u001b[0m 3ms/step - accuracy: 0.7957 - loss: 1.2936 - val_accuracy: 0.7975 - val_loss: 1.9488\nEpoch 23/100\n\u001b[1m128/128\u001b[0m \u001b[32m━━━━━━━━━━━━━━━━━━━━\u001b[0m\u001b[37m\u001b[0m \u001b[1m0s\u001b[0m 3ms/step - accuracy: 0.7915 - loss: 1.2721 - val_accuracy: 0.7975 - val_loss: 0.7107\nEpoch 24/100\n\u001b[1m128/128\u001b[0m \u001b[32m━━━━━━━━━━━━━━━━━━━━\u001b[0m\u001b[37m\u001b[0m \u001b[1m0s\u001b[0m 3ms/step - accuracy: 0.7793 - loss: 0.9830 - val_accuracy: 0.7844 - val_loss: 1.1931\nEpoch 25/100\n\u001b[1m128/128\u001b[0m \u001b[32m━━━━━━━━━━━━━━━━━━━━\u001b[0m\u001b[37m\u001b[0m \u001b[1m0s\u001b[0m 3ms/step - accuracy: 0.7987 - loss: 0.6892 - val_accuracy: 0.7975 - val_loss: 0.5130\nEpoch 26/100\n\u001b[1m128/128\u001b[0m \u001b[32m━━━━━━━━━━━━━━━━━━━━\u001b[0m\u001b[37m\u001b[0m \u001b[1m0s\u001b[0m 3ms/step - accuracy: 0.7944 - loss: 0.5434 - val_accuracy: 0.7981 - val_loss: 0.5038\nEpoch 27/100\n\u001b[1m128/128\u001b[0m \u001b[32m━━━━━━━━━━━━━━━━━━━━\u001b[0m\u001b[37m\u001b[0m \u001b[1m0s\u001b[0m 3ms/step - accuracy: 0.7965 - loss: 0.5056 - val_accuracy: 0.7981 - val_loss: 0.5038\nEpoch 28/100\n\u001b[1m128/128\u001b[0m \u001b[32m━━━━━━━━━━━━━━━━━━━━\u001b[0m\u001b[37m\u001b[0m \u001b[1m0s\u001b[0m 3ms/step - accuracy: 0.7903 - loss: 0.5134 - val_accuracy: 0.7981 - val_loss: 0.5038\nEpoch 29/100\n\u001b[1m128/128\u001b[0m \u001b[32m━━━━━━━━━━━━━━━━━━━━\u001b[0m\u001b[37m\u001b[0m \u001b[1m0s\u001b[0m 3ms/step - accuracy: 0.7943 - loss: 0.5081 - val_accuracy: 0.7981 - val_loss: 0.5038\nEpoch 30/100\n\u001b[1m128/128\u001b[0m \u001b[32m━━━━━━━━━━━━━━━━━━━━\u001b[0m\u001b[37m\u001b[0m \u001b[1m0s\u001b[0m 3ms/step - accuracy: 0.7960 - loss: 0.5057 - val_accuracy: 0.7981 - val_loss: 0.5039\nEpoch 31/100\n\u001b[1m128/128\u001b[0m \u001b[32m━━━━━━━━━━━━━━━━━━━━\u001b[0m\u001b[37m\u001b[0m \u001b[1m0s\u001b[0m 3ms/step - accuracy: 0.7932 - loss: 0.5094 - val_accuracy: 0.7981 - val_loss: 0.5039\nEpoch 32/100\n\u001b[1m128/128\u001b[0m \u001b[32m━━━━━━━━━━━━━━━━━━━━\u001b[0m\u001b[37m\u001b[0m \u001b[1m0s\u001b[0m 3ms/step - accuracy: 0.7953 - loss: 0.5068 - val_accuracy: 0.7981 - val_loss: 0.5039\nEpoch 33/100\n\u001b[1m128/128\u001b[0m \u001b[32m━━━━━━━━━━━━━━━━━━━━\u001b[0m\u001b[37m\u001b[0m \u001b[1m0s\u001b[0m 3ms/step - accuracy: 0.8043 - loss: 0.4946 - val_accuracy: 0.7981 - val_loss: 0.5039\nEpoch 34/100\n\u001b[1m128/128\u001b[0m \u001b[32m━━━━━━━━━━━━━━━━━━━━\u001b[0m\u001b[37m\u001b[0m \u001b[1m0s\u001b[0m 3ms/step - accuracy: 0.7990 - loss: 0.5018 - val_accuracy: 0.7981 - val_loss: 0.5040\nEpoch 35/100\n\u001b[1m128/128\u001b[0m \u001b[32m━━━━━━━━━━━━━━━━━━━━\u001b[0m\u001b[37m\u001b[0m \u001b[1m0s\u001b[0m 3ms/step - accuracy: 0.7983 - loss: 0.5028 - val_accuracy: 0.7981 - val_loss: 0.5041\nEpoch 36/100\n\u001b[1m128/128\u001b[0m \u001b[32m━━━━━━━━━━━━━━━━━━━━\u001b[0m\u001b[37m\u001b[0m \u001b[1m0s\u001b[0m 3ms/step - accuracy: 0.7955 - loss: 0.5064 - val_accuracy: 0.7981 - val_loss: 0.5041\nEpoch 37/100\n\u001b[1m128/128\u001b[0m \u001b[32m━━━━━━━━━━━━━━━━━━━━\u001b[0m\u001b[37m\u001b[0m \u001b[1m0s\u001b[0m 3ms/step - accuracy: 0.7998 - loss: 0.5005 - val_accuracy: 0.7981 - val_loss: 0.5042\nEpoch 38/100\n\u001b[1m128/128\u001b[0m \u001b[32m━━━━━━━━━━━━━━━━━━━━\u001b[0m\u001b[37m\u001b[0m \u001b[1m0s\u001b[0m 3ms/step - accuracy: 0.8013 - loss: 0.4986 - val_accuracy: 0.7981 - val_loss: 0.5042\nEpoch 39/100\n\u001b[1m128/128\u001b[0m \u001b[32m━━━━━━━━━━━━━━━━━━━━\u001b[0m\u001b[37m\u001b[0m \u001b[1m0s\u001b[0m 3ms/step - accuracy: 0.7905 - loss: 0.5130 - val_accuracy: 0.7981 - val_loss: 0.5043\nEpoch 40/100\n\u001b[1m128/128\u001b[0m \u001b[32m━━━━━━━━━━━━━━━━━━━━\u001b[0m\u001b[37m\u001b[0m \u001b[1m0s\u001b[0m 3ms/step - accuracy: 0.7895 - loss: 0.5144 - val_accuracy: 0.7981 - val_loss: 0.5044\nEpoch 41/100\n\u001b[1m128/128\u001b[0m \u001b[32m━━━━━━━━━━━━━━━━━━━━\u001b[0m\u001b[37m\u001b[0m \u001b[1m0s\u001b[0m 3ms/step - accuracy: 0.8007 - loss: 0.4994 - val_accuracy: 0.7981 - val_loss: 0.5044\nEpoch 42/100\n\u001b[1m128/128\u001b[0m \u001b[32m━━━━━━━━━━━━━━━━━━━━\u001b[0m\u001b[37m\u001b[0m \u001b[1m0s\u001b[0m 3ms/step - accuracy: 0.8059 - loss: 0.4923 - val_accuracy: 0.7981 - val_loss: 0.5045\nEpoch 43/100\n\u001b[1m128/128\u001b[0m \u001b[32m━━━━━━━━━━━━━━━━━━━━\u001b[0m\u001b[37m\u001b[0m \u001b[1m1s\u001b[0m 3ms/step - accuracy: 0.7923 - loss: 0.5108 - val_accuracy: 0.7981 - val_loss: 0.5045\nEpoch 44/100\n\u001b[1m128/128\u001b[0m \u001b[32m━━━━━━━━━━━━━━━━━━━━\u001b[0m\u001b[37m\u001b[0m \u001b[1m0s\u001b[0m 3ms/step - accuracy: 0.7922 - loss: 0.5108 - val_accuracy: 0.7981 - val_loss: 0.5046\nEpoch 45/100\n\u001b[1m128/128\u001b[0m \u001b[32m━━━━━━━━━━━━━━━━━━━━\u001b[0m\u001b[37m\u001b[0m \u001b[1m0s\u001b[0m 3ms/step - accuracy: 0.7980 - loss: 0.5028 - val_accuracy: 0.7981 - val_loss: 0.5047\nEpoch 46/100\n\u001b[1m128/128\u001b[0m \u001b[32m━━━━━━━━━━━━━━━━━━━━\u001b[0m\u001b[37m\u001b[0m \u001b[1m0s\u001b[0m 3ms/step - accuracy: 0.7967 - loss: 0.5047 - val_accuracy: 0.7981 - val_loss: 0.5047\nEpoch 47/100\n\u001b[1m128/128\u001b[0m \u001b[32m━━━━━━━━━━━━━━━━━━━━\u001b[0m\u001b[37m\u001b[0m \u001b[1m0s\u001b[0m 3ms/step - accuracy: 0.7904 - loss: 0.5134 - val_accuracy: 0.7981 - val_loss: 0.5048\nEpoch 48/100\n\u001b[1m128/128\u001b[0m \u001b[32m━━━━━━━━━━━━━━━━━━━━\u001b[0m\u001b[37m\u001b[0m \u001b[1m0s\u001b[0m 3ms/step - accuracy: 0.7948 - loss: 0.5071 - val_accuracy: 0.7981 - val_loss: 0.5049\nEpoch 49/100\n\u001b[1m128/128\u001b[0m \u001b[32m━━━━━━━━━━━━━━━━━━━━\u001b[0m\u001b[37m\u001b[0m \u001b[1m0s\u001b[0m 3ms/step - accuracy: 0.7905 - loss: 0.5132 - val_accuracy: 0.7981 - val_loss: 0.5049\nEpoch 50/100\n\u001b[1m128/128\u001b[0m \u001b[32m━━━━━━━━━━━━━━━━━━━━\u001b[0m\u001b[37m\u001b[0m \u001b[1m0s\u001b[0m 3ms/step - accuracy: 0.7999 - loss: 0.5004 - val_accuracy: 0.7981 - val_loss: 0.5050\nEpoch 51/100\n\u001b[1m128/128\u001b[0m \u001b[32m━━━━━━━━━━━━━━━━━━━━\u001b[0m\u001b[37m\u001b[0m \u001b[1m0s\u001b[0m 3ms/step - accuracy: 0.8036 - loss: 0.4953 - val_accuracy: 0.7981 - val_loss: 0.5050\nEpoch 52/100\n\u001b[1m128/128\u001b[0m \u001b[32m━━━━━━━━━━━━━━━━━━━━\u001b[0m\u001b[37m\u001b[0m \u001b[1m0s\u001b[0m 3ms/step - accuracy: 0.7936 - loss: 0.5089 - val_accuracy: 0.7981 - val_loss: 0.5051\nEpoch 53/100\n\u001b[1m128/128\u001b[0m \u001b[32m━━━━━━━━━━━━━━━━━━━━\u001b[0m\u001b[37m\u001b[0m \u001b[1m0s\u001b[0m 3ms/step - accuracy: 0.7919 - loss: 0.5113 - val_accuracy: 0.7981 - val_loss: 0.5052\nEpoch 54/100\n\u001b[1m128/128\u001b[0m \u001b[32m━━━━━━━━━━━━━━━━━━━━\u001b[0m\u001b[37m\u001b[0m \u001b[1m0s\u001b[0m 3ms/step - accuracy: 0.7961 - loss: 0.5057 - val_accuracy: 0.7981 - val_loss: 0.5053\nEpoch 55/100\n\u001b[1m128/128\u001b[0m \u001b[32m━━━━━━━━━━━━━━━━━━━━\u001b[0m\u001b[37m\u001b[0m \u001b[1m0s\u001b[0m 3ms/step - accuracy: 0.8041 - loss: 0.4948 - val_accuracy: 0.7981 - val_loss: 0.5053\nEpoch 56/100\n\u001b[1m128/128\u001b[0m \u001b[32m━━━━━━━━━━━━━━━━━━━━\u001b[0m\u001b[37m\u001b[0m \u001b[1m0s\u001b[0m 3ms/step - accuracy: 0.7926 - loss: 0.5102 - val_accuracy: 0.7981 - val_loss: 0.5054\nEpoch 57/100\n\u001b[1m128/128\u001b[0m \u001b[32m━━━━━━━━━━━━━━━━━━━━\u001b[0m\u001b[37m\u001b[0m \u001b[1m0s\u001b[0m 3ms/step - accuracy: 0.7971 - loss: 0.5042 - val_accuracy: 0.7975 - val_loss: 0.5055\nEpoch 58/100\n\u001b[1m128/128\u001b[0m \u001b[32m━━━━━━━━━━━━━━━━━━━━\u001b[0m\u001b[37m\u001b[0m \u001b[1m0s\u001b[0m 3ms/step - accuracy: 0.7900 - loss: 0.5135 - val_accuracy: 0.7975 - val_loss: 0.5055\nEpoch 59/100\n\u001b[1m128/128\u001b[0m \u001b[32m━━━━━━━━━━━━━━━━━━━━\u001b[0m\u001b[37m\u001b[0m \u001b[1m0s\u001b[0m 3ms/step - accuracy: 0.7948 - loss: 0.5074 - val_accuracy: 0.7975 - val_loss: 0.5056\nEpoch 60/100\n\u001b[1m128/128\u001b[0m \u001b[32m━━━━━━━━━━━━━━━━━━━━\u001b[0m\u001b[37m\u001b[0m \u001b[1m0s\u001b[0m 3ms/step - accuracy: 0.7901 - loss: 0.5137 - val_accuracy: 0.7975 - val_loss: 0.5057\nEpoch 61/100\n\u001b[1m128/128\u001b[0m \u001b[32m━━━━━━━━━━━━━━━━━━━━\u001b[0m\u001b[37m\u001b[0m \u001b[1m0s\u001b[0m 3ms/step - accuracy: 0.7946 - loss: 0.5076 - val_accuracy: 0.7975 - val_loss: 0.5057\nEpoch 62/100\n\u001b[1m128/128\u001b[0m \u001b[32m━━━━━━━━━━━━━━━━━━━━\u001b[0m\u001b[37m\u001b[0m \u001b[1m0s\u001b[0m 3ms/step - accuracy: 0.7958 - loss: 0.5061 - val_accuracy: 0.7981 - val_loss: 0.5041\nEpoch 63/100\n\u001b[1m128/128\u001b[0m \u001b[32m━━━━━━━━━━━━━━━━━━━━\u001b[0m\u001b[37m\u001b[0m \u001b[1m0s\u001b[0m 3ms/step - accuracy: 0.7801 - loss: 0.5270 - val_accuracy: 0.7981 - val_loss: 0.5045\nEpoch 64/100\n\u001b[1m128/128\u001b[0m \u001b[32m━━━━━━━━━━━━━━━━━━━━\u001b[0m\u001b[37m\u001b[0m \u001b[1m0s\u001b[0m 3ms/step - accuracy: 0.7909 - loss: 0.5125 - val_accuracy: 0.7981 - val_loss: 0.5047\nEpoch 65/100\n\u001b[1m128/128\u001b[0m \u001b[32m━━━━━━━━━━━━━━━━━━━━\u001b[0m\u001b[37m\u001b[0m \u001b[1m0s\u001b[0m 3ms/step - accuracy: 0.7876 - loss: 0.5171 - val_accuracy: 0.7981 - val_loss: 0.5049\nEpoch 66/100\n\u001b[1m128/128\u001b[0m \u001b[32m━━━━━━━━━━━━━━━━━━━━\u001b[0m\u001b[37m\u001b[0m \u001b[1m0s\u001b[0m 4ms/step - accuracy: 0.7876 - loss: 0.5169 - val_accuracy: 0.7981 - val_loss: 0.5051\nEpoch 67/100\n\u001b[1m128/128\u001b[0m \u001b[32m━━━━━━━━━━━━━━━━━━━━\u001b[0m\u001b[37m\u001b[0m \u001b[1m0s\u001b[0m 3ms/step - accuracy: 0.7973 - loss: 0.5040 - val_accuracy: 0.7981 - val_loss: 0.5053\nEpoch 68/100\n\u001b[1m128/128\u001b[0m \u001b[32m━━━━━━━━━━━━━━━━━━━━\u001b[0m\u001b[37m\u001b[0m \u001b[1m0s\u001b[0m 3ms/step - accuracy: 0.7956 - loss: 0.5063 - val_accuracy: 0.7975 - val_loss: 0.5054\nEpoch 69/100\n\u001b[1m128/128\u001b[0m \u001b[32m━━━━━━━━━━━━━━━━━━━━\u001b[0m\u001b[37m\u001b[0m \u001b[1m0s\u001b[0m 3ms/step - accuracy: 0.7934 - loss: 0.5093 - val_accuracy: 0.7975 - val_loss: 0.5056\nEpoch 70/100\n\u001b[1m128/128\u001b[0m \u001b[32m━━━━━━━━━━━━━━━━━━━━\u001b[0m\u001b[37m\u001b[0m \u001b[1m0s\u001b[0m 3ms/step - accuracy: 0.7944 - loss: 0.5079 - val_accuracy: 0.7975 - val_loss: 0.5057\nEpoch 71/100\n\u001b[1m128/128\u001b[0m \u001b[32m━━━━━━━━━━━━━━━━━━━━\u001b[0m\u001b[37m\u001b[0m \u001b[1m0s\u001b[0m 3ms/step - accuracy: 0.8000 - loss: 0.5002 - val_accuracy: 0.7975 - val_loss: 0.5058\nEpoch 72/100\n\u001b[1m128/128\u001b[0m \u001b[32m━━━━━━━━━━━━━━━━━━━━\u001b[0m\u001b[37m\u001b[0m \u001b[1m0s\u001b[0m 3ms/step - accuracy: 0.7888 - loss: 0.5156 - val_accuracy: 0.7975 - val_loss: 0.5094\nEpoch 73/100\n\u001b[1m128/128\u001b[0m \u001b[32m━━━━━━━━━━━━━━━━━━━━\u001b[0m\u001b[37m\u001b[0m \u001b[1m0s\u001b[0m 3ms/step - accuracy: 0.7971 - loss: 0.5043 - val_accuracy: 0.7987 - val_loss: 0.5019\nEpoch 74/100\n\u001b[1m128/128\u001b[0m \u001b[32m━━━━━━━━━━━━━━━━━━━━\u001b[0m\u001b[37m\u001b[0m \u001b[1m0s\u001b[0m 3ms/step - accuracy: 0.7848 - loss: 0.5210 - val_accuracy: 0.7987 - val_loss: 0.5020\nEpoch 75/100\n\u001b[1m128/128\u001b[0m \u001b[32m━━━━━━━━━━━━━━━━━━━━\u001b[0m\u001b[37m\u001b[0m \u001b[1m0s\u001b[0m 3ms/step - accuracy: 0.7943 - loss: 0.5081 - val_accuracy: 0.7987 - val_loss: 0.5020\nEpoch 76/100\n\u001b[1m128/128\u001b[0m \u001b[32m━━━━━━━━━━━━━━━━━━━━\u001b[0m\u001b[37m\u001b[0m \u001b[1m0s\u001b[0m 3ms/step - accuracy: 0.7970 - loss: 0.5044 - val_accuracy: 0.7987 - val_loss: 0.5020\nEpoch 77/100\n\u001b[1m128/128\u001b[0m \u001b[32m━━━━━━━━━━━━━━━━━━━━\u001b[0m\u001b[37m\u001b[0m \u001b[1m0s\u001b[0m 3ms/step - accuracy: 0.7898 - loss: 0.5141 - val_accuracy: 0.7987 - val_loss: 0.5020\nEpoch 78/100\n\u001b[1m128/128\u001b[0m \u001b[32m━━━━━━━━━━━━━━━━━━━━\u001b[0m\u001b[37m\u001b[0m \u001b[1m0s\u001b[0m 3ms/step - accuracy: 0.7906 - loss: 0.5130 - val_accuracy: 0.7987 - val_loss: 0.5019\nEpoch 79/100\n\u001b[1m128/128\u001b[0m \u001b[32m━━━━━━━━━━━━━━━━━━━━\u001b[0m\u001b[37m\u001b[0m \u001b[1m0s\u001b[0m 3ms/step - accuracy: 0.7938 - loss: 0.5087 - val_accuracy: 0.7987 - val_loss: 0.5019\nEpoch 80/100\n\u001b[1m128/128\u001b[0m \u001b[32m━━━━━━━━━━━━━━━━━━━━\u001b[0m\u001b[37m\u001b[0m \u001b[1m0s\u001b[0m 3ms/step - accuracy: 0.7963 - loss: 0.5053 - val_accuracy: 0.7987 - val_loss: 0.5019\nEpoch 81/100\n\u001b[1m128/128\u001b[0m \u001b[32m━━━━━━━━━━━━━━━━━━━━\u001b[0m\u001b[37m\u001b[0m \u001b[1m0s\u001b[0m 3ms/step - accuracy: 0.7861 - loss: 0.5190 - val_accuracy: 0.7987 - val_loss: 0.5019\nEpoch 82/100\n\u001b[1m128/128\u001b[0m \u001b[32m━━━━━━━━━━━━━━━━━━━━\u001b[0m\u001b[37m\u001b[0m \u001b[1m0s\u001b[0m 3ms/step - accuracy: 0.7970 - loss: 0.5045 - val_accuracy: 0.7987 - val_loss: 0.5019\nEpoch 83/100\n\u001b[1m128/128\u001b[0m \u001b[32m━━━━━━━━━━━━━━━━━━━━\u001b[0m\u001b[37m\u001b[0m \u001b[1m0s\u001b[0m 3ms/step - accuracy: 0.7931 - loss: 0.5097 - val_accuracy: 0.7987 - val_loss: 0.5019\nEpoch 84/100\n\u001b[1m128/128\u001b[0m \u001b[32m━━━━━━━━━━━━━━━━━━━━\u001b[0m\u001b[37m\u001b[0m \u001b[1m0s\u001b[0m 3ms/step - accuracy: 0.7906 - loss: 0.5130 - val_accuracy: 0.7987 - val_loss: 0.5019\nEpoch 85/100\n\u001b[1m128/128\u001b[0m \u001b[32m━━━━━━━━━━━━━━━━━━━━\u001b[0m\u001b[37m\u001b[0m \u001b[1m0s\u001b[0m 3ms/step - accuracy: 0.7919 - loss: 0.5112 - val_accuracy: 0.7987 - val_loss: 0.5019\nEpoch 86/100\n\u001b[1m128/128\u001b[0m \u001b[32m━━━━━━━━━━━━━━━━━━━━\u001b[0m\u001b[37m\u001b[0m \u001b[1m0s\u001b[0m 3ms/step - accuracy: 0.7921 - loss: 0.5111 - val_accuracy: 0.7987 - val_loss: 0.5019\nEpoch 87/100\n\u001b[1m128/128\u001b[0m \u001b[32m━━━━━━━━━━━━━━━━━━━━\u001b[0m\u001b[37m\u001b[0m \u001b[1m0s\u001b[0m 3ms/step - accuracy: 0.7978 - loss: 0.5033 - val_accuracy: 0.7987 - val_loss: 0.5019\nEpoch 88/100\n\u001b[1m128/128\u001b[0m \u001b[32m━━━━━━━━━━━━━━━━━━━━\u001b[0m\u001b[37m\u001b[0m \u001b[1m0s\u001b[0m 3ms/step - accuracy: 0.7906 - loss: 0.5129 - val_accuracy: 0.7987 - val_loss: 0.5019\nEpoch 89/100\n\u001b[1m128/128\u001b[0m \u001b[32m━━━━━━━━━━━━━━━━━━━━\u001b[0m\u001b[37m\u001b[0m \u001b[1m0s\u001b[0m 3ms/step - accuracy: 0.7964 - loss: 0.5053 - val_accuracy: 0.7987 - val_loss: 0.5019\nEpoch 90/100\n\u001b[1m128/128\u001b[0m \u001b[32m━━━━━━━━━━━━━━━━━━━━\u001b[0m\u001b[37m\u001b[0m \u001b[1m0s\u001b[0m 3ms/step - accuracy: 0.7895 - loss: 0.5144 - val_accuracy: 0.7987 - val_loss: 0.5019\nEpoch 91/100\n\u001b[1m128/128\u001b[0m \u001b[32m━━━━━━━━━━━━━━━━━━━━\u001b[0m\u001b[37m\u001b[0m \u001b[1m0s\u001b[0m 3ms/step - accuracy: 0.7897 - loss: 0.5142 - val_accuracy: 0.7987 - val_loss: 0.5019\nEpoch 92/100\n\u001b[1m128/128\u001b[0m \u001b[32m━━━━━━━━━━━━━━━━━━━━\u001b[0m\u001b[37m\u001b[0m \u001b[1m0s\u001b[0m 3ms/step - accuracy: 0.7917 - loss: 0.5117 - val_accuracy: 0.7987 - val_loss: 0.5019\nEpoch 93/100\n\u001b[1m128/128\u001b[0m \u001b[32m━━━━━━━━━━━━━━━━━━━━\u001b[0m\u001b[37m\u001b[0m \u001b[1m0s\u001b[0m 3ms/step - accuracy: 0.8024 - loss: 0.4970 - val_accuracy: 0.7987 - val_loss: 0.5019\nEpoch 94/100\n\u001b[1m128/128\u001b[0m \u001b[32m━━━━━━━━━━━━━━━━━━━━\u001b[0m\u001b[37m\u001b[0m \u001b[1m0s\u001b[0m 3ms/step - accuracy: 0.7971 - loss: 0.5044 - val_accuracy: 0.7987 - val_loss: 0.5019\nEpoch 95/100\n\u001b[1m128/128\u001b[0m \u001b[32m━━━━━━━━━━━━━━━━━━━━\u001b[0m\u001b[37m\u001b[0m \u001b[1m0s\u001b[0m 3ms/step - accuracy: 0.7914 - loss: 0.5119 - val_accuracy: 0.7987 - val_loss: 0.5019\nEpoch 96/100\n\u001b[1m128/128\u001b[0m \u001b[32m━━━━━━━━━━━━━━━━━━━━\u001b[0m\u001b[37m\u001b[0m \u001b[1m0s\u001b[0m 3ms/step - accuracy: 0.7902 - loss: 0.5135 - val_accuracy: 0.7987 - val_loss: 0.5019\nEpoch 97/100\n\u001b[1m128/128\u001b[0m \u001b[32m━━━━━━━━━━━━━━━━━━━━\u001b[0m\u001b[37m\u001b[0m \u001b[1m0s\u001b[0m 3ms/step - accuracy: 0.7900 - loss: 0.5138 - val_accuracy: 0.7987 - val_loss: 0.5019\nEpoch 98/100\n\u001b[1m128/128\u001b[0m \u001b[32m━━━━━━━━━━━━━━━━━━━━\u001b[0m\u001b[37m\u001b[0m \u001b[1m0s\u001b[0m 3ms/step - accuracy: 0.8003 - loss: 0.5000 - val_accuracy: 0.7987 - val_loss: 0.5019\nEpoch 99/100\n\u001b[1m128/128\u001b[0m \u001b[32m━━━━━━━━━━━━━━━━━━━━\u001b[0m\u001b[37m\u001b[0m \u001b[1m0s\u001b[0m 3ms/step - accuracy: 0.7881 - loss: 0.5164 - val_accuracy: 0.7987 - val_loss: 0.5019\nEpoch 100/100\n\u001b[1m128/128\u001b[0m \u001b[32m━━━━━━━━━━━━━━━━━━━━\u001b[0m\u001b[37m\u001b[0m \u001b[1m0s\u001b[0m 3ms/step - accuracy: 0.7855 - loss: 0.5199 - val_accuracy: 0.7987 - val_loss: 0.5019\n",
          "output_type": "stream"
        }
      ],
      "execution_count": null
    },
    {
      "cell_type": "code",
      "source": [
        "y_pred_prob=model.predict(X_test_trans)\n",
        "y_pred_prob.shape\n"
      ],
      "metadata": {
        "trusted": true,
        "execution": {
          "iopub.status.busy": "2025-07-18T10:18:49.219566Z",
          "iopub.execute_input": "2025-07-18T10:18:49.219849Z",
          "iopub.status.idle": "2025-07-18T10:18:49.520783Z",
          "shell.execute_reply.started": "2025-07-18T10:18:49.2198Z",
          "shell.execute_reply": "2025-07-18T10:18:49.519985Z"
        },
        "id": "qhCJi9ytFpoA",
        "outputId": "c577c6a9-c159-48e5-f0a5-34e5a56202b4"
      },
      "outputs": [
        {
          "name": "stdout",
          "text": "\u001b[1m63/63\u001b[0m \u001b[32m━━━━━━━━━━━━━━━━━━━━\u001b[0m\u001b[37m\u001b[0m \u001b[1m0s\u001b[0m 2ms/step\n",
          "output_type": "stream"
        },
        {
          "execution_count": 63,
          "output_type": "execute_result",
          "data": {
            "text/plain": "(2000, 1)"
          },
          "metadata": {}
        }
      ],
      "execution_count": null
    },
    {
      "cell_type": "code",
      "source": [
        "y_pred_norm=np.where(y_pred_prob > 0.5,1,0)\n",
        "y_pred_norm"
      ],
      "metadata": {
        "trusted": true,
        "execution": {
          "iopub.status.busy": "2025-07-18T10:18:49.523802Z",
          "iopub.execute_input": "2025-07-18T10:18:49.52414Z",
          "iopub.status.idle": "2025-07-18T10:18:49.530975Z",
          "shell.execute_reply.started": "2025-07-18T10:18:49.524116Z",
          "shell.execute_reply": "2025-07-18T10:18:49.529907Z"
        },
        "id": "Uh4T1TRMFpoA",
        "outputId": "e6c853db-fcd2-45c9-ab59-a05b55ead981"
      },
      "outputs": [
        {
          "execution_count": 64,
          "output_type": "execute_result",
          "data": {
            "text/plain": "array([[0],\n       [0],\n       [0],\n       ...,\n       [0],\n       [0],\n       [0]])"
          },
          "metadata": {}
        }
      ],
      "execution_count": null
    },
    {
      "cell_type": "code",
      "source": [
        "history.history"
      ],
      "metadata": {
        "trusted": true,
        "execution": {
          "iopub.status.busy": "2025-07-18T10:18:49.532147Z",
          "iopub.execute_input": "2025-07-18T10:18:49.532544Z",
          "iopub.status.idle": "2025-07-18T10:18:49.55698Z",
          "shell.execute_reply.started": "2025-07-18T10:18:49.53251Z",
          "shell.execute_reply": "2025-07-18T10:18:49.555857Z"
        },
        "id": "ys_OiTchFpoB",
        "outputId": "a776abcd-d725-41ae-bcd0-c3a230b78989"
      },
      "outputs": [
        {
          "execution_count": 65,
          "output_type": "execute_result",
          "data": {
            "text/plain": "{'accuracy': [0.43796876072883606,\n  0.7437499761581421,\n  0.7490624785423279,\n  0.7573437690734863,\n  0.7610937356948853,\n  0.7634375095367432,\n  0.7640625238418579,\n  0.7698437571525574,\n  0.7735937237739563,\n  0.77734375,\n  0.7739062309265137,\n  0.7754687666893005,\n  0.7751562595367432,\n  0.7803124785423279,\n  0.7792187333106995,\n  0.7810937762260437,\n  0.7810937762260437,\n  0.7821875214576721,\n  0.7821875214576721,\n  0.785937488079071,\n  0.7860937714576721,\n  0.7864062786102295,\n  0.7865625023841858,\n  0.7909374833106995,\n  0.7920312285423279,\n  0.7928125262260437,\n  0.7935937643051147,\n  0.7935937643051147,\n  0.7935937643051147,\n  0.7935937643051147,\n  0.7935937643051147,\n  0.7935937643051147,\n  0.7935937643051147,\n  0.7935937643051147,\n  0.7935937643051147,\n  0.7935937643051147,\n  0.7935937643051147,\n  0.7935937643051147,\n  0.7935937643051147,\n  0.7935937643051147,\n  0.7935937643051147,\n  0.7935937643051147,\n  0.7935937643051147,\n  0.7935937643051147,\n  0.7935937643051147,\n  0.7935937643051147,\n  0.7935937643051147,\n  0.7935937643051147,\n  0.7935937643051147,\n  0.7935937643051147,\n  0.7935937643051147,\n  0.7935937643051147,\n  0.7935937643051147,\n  0.7935937643051147,\n  0.7935937643051147,\n  0.7935937643051147,\n  0.7935937643051147,\n  0.7935937643051147,\n  0.7935937643051147,\n  0.7935937643051147,\n  0.7935937643051147,\n  0.7935937643051147,\n  0.7935937643051147,\n  0.7935937643051147,\n  0.7935937643051147,\n  0.7935937643051147,\n  0.7935937643051147,\n  0.7935937643051147,\n  0.7935937643051147,\n  0.7935937643051147,\n  0.7935937643051147,\n  0.7935937643051147,\n  0.7934374809265137,\n  0.7934374809265137,\n  0.7934374809265137,\n  0.7934374809265137,\n  0.7934374809265137,\n  0.7934374809265137,\n  0.7934374809265137,\n  0.7934374809265137,\n  0.7934374809265137,\n  0.7934374809265137,\n  0.7934374809265137,\n  0.7934374809265137,\n  0.7934374809265137,\n  0.7934374809265137,\n  0.7934374809265137,\n  0.7934374809265137,\n  0.7934374809265137,\n  0.7934374809265137,\n  0.7934374809265137,\n  0.7934374809265137,\n  0.7934374809265137,\n  0.7934374809265137,\n  0.7934374809265137,\n  0.7934374809265137,\n  0.7934374809265137,\n  0.7934374809265137,\n  0.7934374809265137,\n  0.7934374809265137],\n 'loss': [5521.35986328125,\n  108.22335052490234,\n  66.9016342163086,\n  28.297143936157227,\n  15.247527122497559,\n  10.290104866027832,\n  6.528713226318359,\n  4.346290588378906,\n  4.210500717163086,\n  2.825221300125122,\n  2.281219720840454,\n  1.8884774446487427,\n  2.0451531410217285,\n  1.482172966003418,\n  1.4401087760925293,\n  1.2907381057739258,\n  1.2779868841171265,\n  1.5108686685562134,\n  1.2640385627746582,\n  1.0645651817321777,\n  1.094786524772644,\n  1.5661118030548096,\n  1.169811725616455,\n  0.7936534285545349,\n  0.6331132650375366,\n  0.5372815132141113,\n  0.5094090104103088,\n  0.5090183019638062,\n  0.5089960694313049,\n  0.508986234664917,\n  0.5089759826660156,\n  0.5089746713638306,\n  0.5089918971061707,\n  0.508972704410553,\n  0.5089654922485352,\n  0.5089671611785889,\n  0.5089603066444397,\n  0.508978545665741,\n  0.5089677572250366,\n  0.5089690685272217,\n  0.5089665055274963,\n  0.508961021900177,\n  0.5089738965034485,\n  0.5089644193649292,\n  0.5089558959007263,\n  0.5089547634124756,\n  0.5089619159698486,\n  0.5089613199234009,\n  0.5089578032493591,\n  0.508955180644989,\n  0.5089724063873291,\n  0.5089611411094666,\n  0.5089580416679382,\n  0.5089690089225769,\n  0.5089618563652039,\n  0.5089815855026245,\n  0.5089555382728577,\n  0.5089815258979797,\n  0.5089655518531799,\n  0.5089556574821472,\n  0.5089579820632935,\n  0.5089698433876038,\n  0.5089693069458008,\n  0.5089619159698486,\n  0.5089653730392456,\n  0.5089711546897888,\n  0.5089552402496338,\n  0.5089553594589233,\n  0.5089631676673889,\n  0.5089671611785889,\n  0.508956253528595,\n  0.5090588331222534,\n  0.5092682838439941,\n  0.5092136263847351,\n  0.5092119574546814,\n  0.5092151761054993,\n  0.5092156529426575,\n  0.50921231508255,\n  0.5092163681983948,\n  0.5092039108276367,\n  0.509212851524353,\n  0.5092064142227173,\n  0.509204626083374,\n  0.5092012286186218,\n  0.5091997385025024,\n  0.5092152953147888,\n  0.5091992616653442,\n  0.509233832359314,\n  0.5092037916183472,\n  0.5092000961303711,\n  0.5092188119888306,\n  0.5092015862464905,\n  0.5092241168022156,\n  0.5092031955718994,\n  0.5092120170593262,\n  0.5092109441757202,\n  0.5092185139656067,\n  0.5092064142227173,\n  0.5092249512672424,\n  0.5092094540596008],\n 'val_accuracy': [0.7400000095367432,\n  0.7443749904632568,\n  0.7706249952316284,\n  0.7699999809265137,\n  0.7925000190734863,\n  0.7481250166893005,\n  0.7799999713897705,\n  0.7925000190734863,\n  0.7943750023841858,\n  0.7793750166893005,\n  0.753125011920929,\n  0.7900000214576721,\n  0.7950000166893005,\n  0.7918750047683716,\n  0.7956249713897705,\n  0.7950000166893005,\n  0.7962499856948853,\n  0.7962499856948853,\n  0.796875,\n  0.7593749761581421,\n  0.7637500166893005,\n  0.7975000143051147,\n  0.7975000143051147,\n  0.784375011920929,\n  0.7975000143051147,\n  0.7981250286102295,\n  0.7981250286102295,\n  0.7981250286102295,\n  0.7981250286102295,\n  0.7981250286102295,\n  0.7981250286102295,\n  0.7981250286102295,\n  0.7981250286102295,\n  0.7981250286102295,\n  0.7981250286102295,\n  0.7981250286102295,\n  0.7981250286102295,\n  0.7981250286102295,\n  0.7981250286102295,\n  0.7981250286102295,\n  0.7981250286102295,\n  0.7981250286102295,\n  0.7981250286102295,\n  0.7981250286102295,\n  0.7981250286102295,\n  0.7981250286102295,\n  0.7981250286102295,\n  0.7981250286102295,\n  0.7981250286102295,\n  0.7981250286102295,\n  0.7981250286102295,\n  0.7981250286102295,\n  0.7981250286102295,\n  0.7981250286102295,\n  0.7981250286102295,\n  0.7981250286102295,\n  0.7975000143051147,\n  0.7975000143051147,\n  0.7975000143051147,\n  0.7975000143051147,\n  0.7975000143051147,\n  0.7981250286102295,\n  0.7981250286102295,\n  0.7981250286102295,\n  0.7981250286102295,\n  0.7981250286102295,\n  0.7981250286102295,\n  0.7975000143051147,\n  0.7975000143051147,\n  0.7975000143051147,\n  0.7975000143051147,\n  0.7975000143051147,\n  0.7987499833106995,\n  0.7987499833106995,\n  0.7987499833106995,\n  0.7987499833106995,\n  0.7987499833106995,\n  0.7987499833106995,\n  0.7987499833106995,\n  0.7987499833106995,\n  0.7987499833106995,\n  0.7987499833106995,\n  0.7987499833106995,\n  0.7987499833106995,\n  0.7987499833106995,\n  0.7987499833106995,\n  0.7987499833106995,\n  0.7987499833106995,\n  0.7987499833106995,\n  0.7987499833106995,\n  0.7987499833106995,\n  0.7987499833106995,\n  0.7987499833106995,\n  0.7987499833106995,\n  0.7987499833106995,\n  0.7987499833106995,\n  0.7987499833106995,\n  0.7987499833106995,\n  0.7987499833106995,\n  0.7987499833106995],\n 'val_loss': [154.9264678955078,\n  81.1609115600586,\n  40.02394485473633,\n  16.406959533691406,\n  11.197582244873047,\n  5.747338771820068,\n  3.1455352306365967,\n  2.8672778606414795,\n  5.350533962249756,\n  1.6282904148101807,\n  1.7003016471862793,\n  1.1446397304534912,\n  1.9476094245910645,\n  0.8957586884498596,\n  1.1635079383850098,\n  1.2290080785751343,\n  3.592175006866455,\n  1.4866664409637451,\n  1.5320770740509033,\n  1.6996557712554932,\n  1.681864619255066,\n  1.9488204717636108,\n  0.7107197046279907,\n  1.1930605173110962,\n  0.5129767060279846,\n  0.5038029551506042,\n  0.5038231611251831,\n  0.503817081451416,\n  0.5038337111473083,\n  0.5038596987724304,\n  0.5038913488388062,\n  0.5039163827896118,\n  0.5039495825767517,\n  0.5040026903152466,\n  0.5040774345397949,\n  0.5041096806526184,\n  0.504165530204773,\n  0.5042461156845093,\n  0.5042981505393982,\n  0.5043725371360779,\n  0.5044013261795044,\n  0.5044875144958496,\n  0.5045316815376282,\n  0.5046077370643616,\n  0.5046631693840027,\n  0.5046893358230591,\n  0.504796028137207,\n  0.5048725008964539,\n  0.5049325823783875,\n  0.5049892067909241,\n  0.5050434470176697,\n  0.5051422715187073,\n  0.5052106380462646,\n  0.5052636861801147,\n  0.5053277015686035,\n  0.5054017901420593,\n  0.5054728984832764,\n  0.5054655075073242,\n  0.5055999159812927,\n  0.5056860446929932,\n  0.5057352185249329,\n  0.5041154623031616,\n  0.5044643878936768,\n  0.5047033429145813,\n  0.5048776865005493,\n  0.5051109194755554,\n  0.5052785277366638,\n  0.5054416060447693,\n  0.5055822730064392,\n  0.5057027339935303,\n  0.5058159828186035,\n  0.5094239711761475,\n  0.5019389986991882,\n  0.5019599795341492,\n  0.5019575357437134,\n  0.501957356929779,\n  0.5019599199295044,\n  0.5019436478614807,\n  0.5019371509552002,\n  0.5019420981407166,\n  0.5019351243972778,\n  0.5019400715827942,\n  0.5019458532333374,\n  0.5019293427467346,\n  0.5019291043281555,\n  0.5019399523735046,\n  0.5019456148147583,\n  0.5019428730010986,\n  0.5019280910491943,\n  0.5019278526306152,\n  0.501921534538269,\n  0.5019276142120361,\n  0.5019431114196777,\n  0.5019392967224121,\n  0.5019428133964539,\n  0.5019300580024719,\n  0.5019372701644897,\n  0.5019305944442749,\n  0.5019315481185913,\n  0.5019344091415405]}"
          },
          "metadata": {}
        }
      ],
      "execution_count": null
    },
    {
      "cell_type": "code",
      "source": [
        "from sklearn.metrics import accuracy_score\n",
        "print(accuracy_score(y_test,y_pred_norm))"
      ],
      "metadata": {
        "trusted": true,
        "execution": {
          "iopub.status.busy": "2025-07-18T10:18:49.558115Z",
          "iopub.execute_input": "2025-07-18T10:18:49.558471Z",
          "iopub.status.idle": "2025-07-18T10:18:49.580493Z",
          "shell.execute_reply.started": "2025-07-18T10:18:49.558438Z",
          "shell.execute_reply": "2025-07-18T10:18:49.579359Z"
        },
        "id": "MHEu2-1qFpoB",
        "outputId": "e1812f6f-d0fc-4b65-c88f-dbf3bfa556d5"
      },
      "outputs": [
        {
          "name": "stdout",
          "text": "0.7875\n",
          "output_type": "stream"
        }
      ],
      "execution_count": null
    },
    {
      "cell_type": "code",
      "source": [
        "import matplotlib.pyplot as plt\n",
        "plt.plot(history.history['loss'])\n",
        "plt.plot(history.history['val_loss'])"
      ],
      "metadata": {
        "trusted": true,
        "execution": {
          "iopub.status.busy": "2025-07-18T10:18:49.581746Z",
          "iopub.execute_input": "2025-07-18T10:18:49.582372Z",
          "iopub.status.idle": "2025-07-18T10:18:49.759497Z",
          "shell.execute_reply.started": "2025-07-18T10:18:49.582338Z",
          "shell.execute_reply": "2025-07-18T10:18:49.758387Z"
        },
        "id": "tTF6Pk-DFpoC",
        "outputId": "a623d58a-faa4-470c-8ca4-6d460d692d4b"
      },
      "outputs": [
        {
          "execution_count": 67,
          "output_type": "execute_result",
          "data": {
            "text/plain": "[<matplotlib.lines.Line2D at 0x7b07bcb2bc90>]"
          },
          "metadata": {}
        },
        {
          "output_type": "display_data",
          "data": {
            "text/plain": "<Figure size 640x480 with 1 Axes>",
            "image/png": "[encoded data removed]"
          },
          "metadata": {}
        }
      ],
      "execution_count": null
    },
    {
      "cell_type": "code",
      "source": [
        "plt.plot(history.history['accuracy'])\n",
        "plt.plot(history.history['val_accuracy'])"
      ],
      "metadata": {
        "trusted": true,
        "execution": {
          "iopub.status.busy": "2025-07-18T10:18:49.760643Z",
          "iopub.execute_input": "2025-07-18T10:18:49.761089Z",
          "iopub.status.idle": "2025-07-18T10:18:49.950888Z",
          "shell.execute_reply.started": "2025-07-18T10:18:49.761061Z",
          "shell.execute_reply": "2025-07-18T10:18:49.949728Z"
        },
        "id": "brYzuH_oFpoD",
        "outputId": "db7f0efd-b2a6-410e-e098-1f7965e79b32"
      },
      "outputs": [
        {
          "execution_count": 68,
          "output_type": "execute_result",
          "data": {
            "text/plain": "[<matplotlib.lines.Line2D at 0x7b07bcb8b710>]"
          },
          "metadata": {}
        },
        {
          "output_type": "display_data",
          "data": {
            "text/plain": "<Figure size 640x480 with 1 Axes>",
            "image/png": "[encoded data removed]"
          },
          "metadata": {}
        }
      ],
      "execution_count": null
    },
    {
      "cell_type": "code",
      "source": [],
      "metadata": {
        "trusted": true,
        "id": "3c4MSSZBFpoE"
      },
      "outputs": [],
      "execution_count": null
    }
  ]
}